{
  "nbformat": 4,
  "nbformat_minor": 0,
  "metadata": {
    "colab": {
      "provenance": [],
      "authorship_tag": "ABX9TyPaqK1c8l9csTdqm8ljfRlu",
      "include_colab_link": true
    },
    "kernelspec": {
      "name": "python3",
      "display_name": "Python 3"
    },
    "language_info": {
      "name": "python"
    }
  },
  "cells": [
    {
      "cell_type": "markdown",
      "metadata": {
        "id": "view-in-github",
        "colab_type": "text"
      },
      "source": [
        "<a href=\"https://colab.research.google.com/github/bishair/PirnaCSVDatabase/blob/main/PirnaModel.ipynb\" target=\"_parent\"><img src=\"https://colab.research.google.com/assets/colab-badge.svg\" alt=\"Open In Colab\"/></a>"
      ]
    },
    {
      "cell_type": "code",
      "execution_count": 2,
      "metadata": {
        "id": "wKejgZMHC8ZG"
      },
      "outputs": [],
      "source": [
        "import pandas as pd\n",
        "import numpy as np\n",
        "from google.colab import files"
      ]
    },
    {
      "cell_type": "code",
      "source": [
        "file_uploaded = files.upload()"
      ],
      "metadata": {
        "colab": {
          "base_uri": "https://localhost:8080/",
          "height": 73
        },
        "id": "XddpZeRtDhrP",
        "outputId": "a07d20fb-f2b2-459c-fb00-3bed6de57d3d"
      },
      "execution_count": 4,
      "outputs": [
        {
          "output_type": "display_data",
          "data": {
            "text/plain": [
              "<IPython.core.display.HTML object>"
            ],
            "text/html": [
              "\n",
              "     <input type=\"file\" id=\"files-73f9a350-5486-4d30-9291-35640cc8a1b2\" name=\"files[]\" multiple disabled\n",
              "        style=\"border:none\" />\n",
              "     <output id=\"result-73f9a350-5486-4d30-9291-35640cc8a1b2\">\n",
              "      Upload widget is only available when the cell has been executed in the\n",
              "      current browser session. Please rerun this cell to enable.\n",
              "      </output>\n",
              "      <script>// Copyright 2017 Google LLC\n",
              "//\n",
              "// Licensed under the Apache License, Version 2.0 (the \"License\");\n",
              "// you may not use this file except in compliance with the License.\n",
              "// You may obtain a copy of the License at\n",
              "//\n",
              "//      http://www.apache.org/licenses/LICENSE-2.0\n",
              "//\n",
              "// Unless required by applicable law or agreed to in writing, software\n",
              "// distributed under the License is distributed on an \"AS IS\" BASIS,\n",
              "// WITHOUT WARRANTIES OR CONDITIONS OF ANY KIND, either express or implied.\n",
              "// See the License for the specific language governing permissions and\n",
              "// limitations under the License.\n",
              "\n",
              "/**\n",
              " * @fileoverview Helpers for google.colab Python module.\n",
              " */\n",
              "(function(scope) {\n",
              "function span(text, styleAttributes = {}) {\n",
              "  const element = document.createElement('span');\n",
              "  element.textContent = text;\n",
              "  for (const key of Object.keys(styleAttributes)) {\n",
              "    element.style[key] = styleAttributes[key];\n",
              "  }\n",
              "  return element;\n",
              "}\n",
              "\n",
              "// Max number of bytes which will be uploaded at a time.\n",
              "const MAX_PAYLOAD_SIZE = 100 * 1024;\n",
              "\n",
              "function _uploadFiles(inputId, outputId) {\n",
              "  const steps = uploadFilesStep(inputId, outputId);\n",
              "  const outputElement = document.getElementById(outputId);\n",
              "  // Cache steps on the outputElement to make it available for the next call\n",
              "  // to uploadFilesContinue from Python.\n",
              "  outputElement.steps = steps;\n",
              "\n",
              "  return _uploadFilesContinue(outputId);\n",
              "}\n",
              "\n",
              "// This is roughly an async generator (not supported in the browser yet),\n",
              "// where there are multiple asynchronous steps and the Python side is going\n",
              "// to poll for completion of each step.\n",
              "// This uses a Promise to block the python side on completion of each step,\n",
              "// then passes the result of the previous step as the input to the next step.\n",
              "function _uploadFilesContinue(outputId) {\n",
              "  const outputElement = document.getElementById(outputId);\n",
              "  const steps = outputElement.steps;\n",
              "\n",
              "  const next = steps.next(outputElement.lastPromiseValue);\n",
              "  return Promise.resolve(next.value.promise).then((value) => {\n",
              "    // Cache the last promise value to make it available to the next\n",
              "    // step of the generator.\n",
              "    outputElement.lastPromiseValue = value;\n",
              "    return next.value.response;\n",
              "  });\n",
              "}\n",
              "\n",
              "/**\n",
              " * Generator function which is called between each async step of the upload\n",
              " * process.\n",
              " * @param {string} inputId Element ID of the input file picker element.\n",
              " * @param {string} outputId Element ID of the output display.\n",
              " * @return {!Iterable<!Object>} Iterable of next steps.\n",
              " */\n",
              "function* uploadFilesStep(inputId, outputId) {\n",
              "  const inputElement = document.getElementById(inputId);\n",
              "  inputElement.disabled = false;\n",
              "\n",
              "  const outputElement = document.getElementById(outputId);\n",
              "  outputElement.innerHTML = '';\n",
              "\n",
              "  const pickedPromise = new Promise((resolve) => {\n",
              "    inputElement.addEventListener('change', (e) => {\n",
              "      resolve(e.target.files);\n",
              "    });\n",
              "  });\n",
              "\n",
              "  const cancel = document.createElement('button');\n",
              "  inputElement.parentElement.appendChild(cancel);\n",
              "  cancel.textContent = 'Cancel upload';\n",
              "  const cancelPromise = new Promise((resolve) => {\n",
              "    cancel.onclick = () => {\n",
              "      resolve(null);\n",
              "    };\n",
              "  });\n",
              "\n",
              "  // Wait for the user to pick the files.\n",
              "  const files = yield {\n",
              "    promise: Promise.race([pickedPromise, cancelPromise]),\n",
              "    response: {\n",
              "      action: 'starting',\n",
              "    }\n",
              "  };\n",
              "\n",
              "  cancel.remove();\n",
              "\n",
              "  // Disable the input element since further picks are not allowed.\n",
              "  inputElement.disabled = true;\n",
              "\n",
              "  if (!files) {\n",
              "    return {\n",
              "      response: {\n",
              "        action: 'complete',\n",
              "      }\n",
              "    };\n",
              "  }\n",
              "\n",
              "  for (const file of files) {\n",
              "    const li = document.createElement('li');\n",
              "    li.append(span(file.name, {fontWeight: 'bold'}));\n",
              "    li.append(span(\n",
              "        `(${file.type || 'n/a'}) - ${file.size} bytes, ` +\n",
              "        `last modified: ${\n",
              "            file.lastModifiedDate ? file.lastModifiedDate.toLocaleDateString() :\n",
              "                                    'n/a'} - `));\n",
              "    const percent = span('0% done');\n",
              "    li.appendChild(percent);\n",
              "\n",
              "    outputElement.appendChild(li);\n",
              "\n",
              "    const fileDataPromise = new Promise((resolve) => {\n",
              "      const reader = new FileReader();\n",
              "      reader.onload = (e) => {\n",
              "        resolve(e.target.result);\n",
              "      };\n",
              "      reader.readAsArrayBuffer(file);\n",
              "    });\n",
              "    // Wait for the data to be ready.\n",
              "    let fileData = yield {\n",
              "      promise: fileDataPromise,\n",
              "      response: {\n",
              "        action: 'continue',\n",
              "      }\n",
              "    };\n",
              "\n",
              "    // Use a chunked sending to avoid message size limits. See b/62115660.\n",
              "    let position = 0;\n",
              "    do {\n",
              "      const length = Math.min(fileData.byteLength - position, MAX_PAYLOAD_SIZE);\n",
              "      const chunk = new Uint8Array(fileData, position, length);\n",
              "      position += length;\n",
              "\n",
              "      const base64 = btoa(String.fromCharCode.apply(null, chunk));\n",
              "      yield {\n",
              "        response: {\n",
              "          action: 'append',\n",
              "          file: file.name,\n",
              "          data: base64,\n",
              "        },\n",
              "      };\n",
              "\n",
              "      let percentDone = fileData.byteLength === 0 ?\n",
              "          100 :\n",
              "          Math.round((position / fileData.byteLength) * 100);\n",
              "      percent.textContent = `${percentDone}% done`;\n",
              "\n",
              "    } while (position < fileData.byteLength);\n",
              "  }\n",
              "\n",
              "  // All done.\n",
              "  yield {\n",
              "    response: {\n",
              "      action: 'complete',\n",
              "    }\n",
              "  };\n",
              "}\n",
              "\n",
              "scope.google = scope.google || {};\n",
              "scope.google.colab = scope.google.colab || {};\n",
              "scope.google.colab._files = {\n",
              "  _uploadFiles,\n",
              "  _uploadFilesContinue,\n",
              "};\n",
              "})(self);\n",
              "</script> "
            ]
          },
          "metadata": {}
        },
        {
          "output_type": "stream",
          "name": "stdout",
          "text": [
            "Saving groundwaterCSV.csv to groundwaterCSV.csv\n"
          ]
        }
      ]
    },
    {
      "cell_type": "code",
      "source": [
        "# Read csv into a dataframe\n",
        "df = pd.read_csv('groundwaterCSV.csv')\n",
        "print(df.dtypes)"
      ],
      "metadata": {
        "colab": {
          "base_uri": "https://localhost:8080/"
        },
        "id": "eZigF7r5EUJq",
        "outputId": "aec28c1f-3cd6-4457-8dd1-fda3010703f5"
      },
      "execution_count": 62,
      "outputs": [
        {
          "output_type": "stream",
          "name": "stdout",
          "text": [
            "Date     object\n",
            "G10     float64\n",
            "dtype: object\n"
          ]
        }
      ]
    },
    {
      "cell_type": "code",
      "source": [
        "df['Date Time'] = pd.to_datetime(df['Date'])\n",
        "df['Day'] = df['Date Time'].dt.day\n",
        "df['Month'] = df['Date Time'].dt.month\n",
        "df['Year'] = df['Date Time'].dt.year\n",
        "df['Hour'] = df['Date Time'].dt.hour\n",
        "df['Minue'] = df['Date Time'].dt.minute\n",
        "\n",
        "df['waterlevel'] = pd.to_numeric(df['G10'], errors='coerce')\n",
        "\n",
        "df.drop(['Date'],axis=1, inplace=True)\n",
        "df.drop(['G10'],axis=1, inplace=True)\n",
        "df.drop(['Date Time'],axis=1, inplace=True)\n",
        "\n",
        "print(df.head())\n",
        "print(df.shape)\n",
        "print(df.shape[0])"
      ],
      "metadata": {
        "colab": {
          "base_uri": "https://localhost:8080/"
        },
        "id": "nA6KOwNSE0Wm",
        "outputId": "ecbff90c-db9e-463e-8bcc-81e549130e94"
      },
      "execution_count": 63,
      "outputs": [
        {
          "output_type": "stream",
          "name": "stdout",
          "text": [
            "   Day  Month  Year  Hour  Minue  waterlevel\n",
            "0   30      1  2015    12     18     110.722\n",
            "1   30      1  2015    13     18     110.720\n",
            "2   30      1  2015    14     18     110.718\n",
            "3   30      1  2015    15     18     110.715\n",
            "4   30      1  2015    16     18     110.714\n",
            "(17538, 6)\n",
            "17538\n"
          ]
        }
      ]
    },
    {
      "cell_type": "code",
      "source": [
        "X = []\n",
        "y = []\n",
        "for i in range(0, df.shape[0]-48):\n",
        "  X.append(df.iloc[i:i+48,5])    #Water level values in 5th column\n",
        "  y.append(df.iloc[i+48,5])\n",
        "print(len(X))\n",
        "print(len(y))\n",
        "print('X before',X[:1])\n",
        "print('y before', y[:5])\n",
        "X, y = np.array(X) , np.array(y)\n",
        "print('X numpy array',X[:1])\n",
        "print('y numpy array', y[:5])"
      ],
      "metadata": {
        "colab": {
          "base_uri": "https://localhost:8080/"
        },
        "id": "MRWB_ATmFz6F",
        "outputId": "62511039-e6d4-46ad-aff4-a665bb6b2428"
      },
      "execution_count": 67,
      "outputs": [
        {
          "output_type": "stream",
          "name": "stdout",
          "text": [
            "17490\n",
            "17490\n",
            "X before [0     110.722\n",
            "1     110.720\n",
            "2     110.718\n",
            "3     110.715\n",
            "4     110.714\n",
            "5     110.712\n",
            "6     110.710\n",
            "7     110.709\n",
            "8     110.707\n",
            "9     110.705\n",
            "10    110.704\n",
            "11    110.702\n",
            "12    110.701\n",
            "13    110.700\n",
            "14    110.698\n",
            "15    110.696\n",
            "16    110.694\n",
            "17    110.694\n",
            "18    110.692\n",
            "19    110.690\n",
            "20    110.689\n",
            "21    110.687\n",
            "22    110.685\n",
            "23    110.682\n",
            "24    110.682\n",
            "25    110.679\n",
            "26    110.679\n",
            "27    110.679\n",
            "28    110.677\n",
            "29    110.678\n",
            "30    110.677\n",
            "31    110.676\n",
            "32    110.675\n",
            "33    110.676\n",
            "34    110.674\n",
            "35    110.673\n",
            "36    110.672\n",
            "37    110.670\n",
            "38    110.668\n",
            "39    110.666\n",
            "40    110.665\n",
            "41    110.663\n",
            "42    110.661\n",
            "43    110.659\n",
            "44    110.658\n",
            "45    110.655\n",
            "46    110.651\n",
            "47    110.650\n",
            "Name: waterlevel, dtype: float64]\n",
            "y before [110.649, 110.645, 110.642, 110.639, 110.637]\n",
            "X numpy array [[110.722 110.72  110.718 110.715 110.714 110.712 110.71  110.709 110.707\n",
            "  110.705 110.704 110.702 110.701 110.7   110.698 110.696 110.694 110.694\n",
            "  110.692 110.69  110.689 110.687 110.685 110.682 110.682 110.679 110.679\n",
            "  110.679 110.677 110.678 110.677 110.676 110.675 110.676 110.674 110.673\n",
            "  110.672 110.67  110.668 110.666 110.665 110.663 110.661 110.659 110.658\n",
            "  110.655 110.651 110.65 ]]\n",
            "y numpy array [110.649 110.645 110.642 110.639 110.637]\n"
          ]
        }
      ]
    },
    {
      "cell_type": "code",
      "source": [
        "y = np.reshape(y, (len(y), 1))   #reshaped into length of y rows and 1 column\n",
        "print(y[:5])\n",
        "print(len(X))\n",
        "print(len(y))\n"
      ],
      "metadata": {
        "colab": {
          "base_uri": "https://localhost:8080/"
        },
        "id": "022zr-ARHNp6",
        "outputId": "e71a81a0-b94a-43ce-e734-1758910a50f4"
      },
      "execution_count": 69,
      "outputs": [
        {
          "output_type": "stream",
          "name": "stdout",
          "text": [
            "[[110.649]\n",
            " [110.645]\n",
            " [110.642]\n",
            " [110.639]\n",
            " [110.637]]\n",
            "17490\n",
            "17490\n"
          ]
        }
      ]
    },
    {
      "cell_type": "code",
      "source": [
        "pd.DataFrame(X).to_csv('appended_WaterLevel.csv')\n",
        "pd.DataFrame(y).to_csv('appended_WaterLevel_1.csv')"
      ],
      "metadata": {
        "id": "IWU-4owCL3nG"
      },
      "execution_count": 70,
      "outputs": []
    },
    {
      "cell_type": "code",
      "source": [
        "# Download the file to your local machine\n",
        "files.download('appended_WaterLevel.csv')\n",
        "files.download('appended_WaterLevel_1.csv')"
      ],
      "metadata": {
        "colab": {
          "base_uri": "https://localhost:8080/",
          "height": 17
        },
        "id": "ABjRb6YfMqEC",
        "outputId": "2d11dcb6-c45b-415a-c347-e1252c485274"
      },
      "execution_count": 71,
      "outputs": [
        {
          "output_type": "display_data",
          "data": {
            "text/plain": [
              "<IPython.core.display.Javascript object>"
            ],
            "application/javascript": [
              "\n",
              "    async function download(id, filename, size) {\n",
              "      if (!google.colab.kernel.accessAllowed) {\n",
              "        return;\n",
              "      }\n",
              "      const div = document.createElement('div');\n",
              "      const label = document.createElement('label');\n",
              "      label.textContent = `Downloading \"${filename}\": `;\n",
              "      div.appendChild(label);\n",
              "      const progress = document.createElement('progress');\n",
              "      progress.max = size;\n",
              "      div.appendChild(progress);\n",
              "      document.body.appendChild(div);\n",
              "\n",
              "      const buffers = [];\n",
              "      let downloaded = 0;\n",
              "\n",
              "      const channel = await google.colab.kernel.comms.open(id);\n",
              "      // Send a message to notify the kernel that we're ready.\n",
              "      channel.send({})\n",
              "\n",
              "      for await (const message of channel.messages) {\n",
              "        // Send a message to notify the kernel that we're ready.\n",
              "        channel.send({})\n",
              "        if (message.buffers) {\n",
              "          for (const buffer of message.buffers) {\n",
              "            buffers.push(buffer);\n",
              "            downloaded += buffer.byteLength;\n",
              "            progress.value = downloaded;\n",
              "          }\n",
              "        }\n",
              "      }\n",
              "      const blob = new Blob(buffers, {type: 'application/binary'});\n",
              "      const a = document.createElement('a');\n",
              "      a.href = window.URL.createObjectURL(blob);\n",
              "      a.download = filename;\n",
              "      div.appendChild(a);\n",
              "      a.click();\n",
              "      div.remove();\n",
              "    }\n",
              "  "
            ]
          },
          "metadata": {}
        },
        {
          "output_type": "display_data",
          "data": {
            "text/plain": [
              "<IPython.core.display.Javascript object>"
            ],
            "application/javascript": [
              "download(\"download_501c2240-2d7a-4b68-bc51-a56d1c417f01\", \"appended_WaterLevel.csv\", 6650047)"
            ]
          },
          "metadata": {}
        },
        {
          "output_type": "display_data",
          "data": {
            "text/plain": [
              "<IPython.core.display.Javascript object>"
            ],
            "application/javascript": [
              "\n",
              "    async function download(id, filename, size) {\n",
              "      if (!google.colab.kernel.accessAllowed) {\n",
              "        return;\n",
              "      }\n",
              "      const div = document.createElement('div');\n",
              "      const label = document.createElement('label');\n",
              "      label.textContent = `Downloading \"${filename}\": `;\n",
              "      div.appendChild(label);\n",
              "      const progress = document.createElement('progress');\n",
              "      progress.max = size;\n",
              "      div.appendChild(progress);\n",
              "      document.body.appendChild(div);\n",
              "\n",
              "      const buffers = [];\n",
              "      let downloaded = 0;\n",
              "\n",
              "      const channel = await google.colab.kernel.comms.open(id);\n",
              "      // Send a message to notify the kernel that we're ready.\n",
              "      channel.send({})\n",
              "\n",
              "      for await (const message of channel.messages) {\n",
              "        // Send a message to notify the kernel that we're ready.\n",
              "        channel.send({})\n",
              "        if (message.buffers) {\n",
              "          for (const buffer of message.buffers) {\n",
              "            buffers.push(buffer);\n",
              "            downloaded += buffer.byteLength;\n",
              "            progress.value = downloaded;\n",
              "          }\n",
              "        }\n",
              "      }\n",
              "      const blob = new Blob(buffers, {type: 'application/binary'});\n",
              "      const a = document.createElement('a');\n",
              "      a.href = window.URL.createObjectURL(blob);\n",
              "      a.download = filename;\n",
              "      div.appendChild(a);\n",
              "      a.click();\n",
              "      div.remove();\n",
              "    }\n",
              "  "
            ]
          },
          "metadata": {}
        },
        {
          "output_type": "display_data",
          "data": {
            "text/plain": [
              "<IPython.core.display.Javascript object>"
            ],
            "application/javascript": [
              "download(\"download_ee54591c-5887-4114-9fd1-e25831fc4317\", \"appended_WaterLevel_1.csv\", 230417)"
            ]
          },
          "metadata": {}
        }
      ]
    },
    {
      "cell_type": "code",
      "source": [
        "from sklearn.preprocessing import MinMaxScaler\n",
        "scaler = MinMaxScaler(feature_range=(0,1))\n",
        "\n",
        "X = scaler.fit_transform(X)\n",
        "y = scaler.fit_transform(y)\n",
        "print('Shape of X',X[:1])\n",
        "print('Shape of y',y[:5])\n",
        "print(X.shape)\n",
        "print(y.shape)"
      ],
      "metadata": {
        "colab": {
          "base_uri": "https://localhost:8080/"
        },
        "id": "sqFk67OVM3XN",
        "outputId": "a3819652-86b6-4882-ccdc-f4568ff81b54"
      },
      "execution_count": 72,
      "outputs": [
        {
          "output_type": "stream",
          "name": "stdout",
          "text": [
            "[[0.8510427  0.85004965 0.8490566  0.84756703 0.84707051 0.84607746\n",
            "  0.84508441 0.84458788 0.84359484 0.84260179 0.84210526 0.84111221\n",
            "  0.84061569 0.84011917 0.83912612 0.83813307 0.83714002 0.83714002\n",
            "  0.83614697 0.83515392 0.8346574  0.83366435 0.8326713  0.83118173\n",
            "  0.83118173 0.82969215 0.82969215 0.82969215 0.82869911 0.82919563\n",
            "  0.82869911 0.82820258 0.82770606 0.82820258 0.82720953 0.82671301\n",
            "  0.82621648 0.82522344 0.82423039 0.82323734 0.82274081 0.82174777\n",
            "  0.82075472 0.81976167 0.81926514 0.81777557 0.81578947 0.81529295]]\n",
            "[[0.81479643]\n",
            " [0.81281033]\n",
            " [0.81132075]\n",
            " [0.80983118]\n",
            " [0.80883813]]\n",
            "(17490, 48)\n",
            "(17490, 1)\n"
          ]
        }
      ]
    },
    {
      "cell_type": "code",
      "source": [
        "X_train, X_test =  X[-13992:],X[:-13992]   #80% 20% split\n",
        "y_train, y_test =  y[-13992:],y[:-13992]"
      ],
      "metadata": {
        "id": "nQ2ruReGNoe4"
      },
      "execution_count": 76,
      "outputs": []
    },
    {
      "cell_type": "code",
      "source": [
        "print(X_train.shape)\n",
        "print(X_test.shape)\n",
        "print(y_train.shape)\n",
        "print(y_test.shape)"
      ],
      "metadata": {
        "colab": {
          "base_uri": "https://localhost:8080/"
        },
        "id": "uAixRUZlQA9q",
        "outputId": "2f65bc31-588e-4fbf-8056-e5bd023cd128"
      },
      "execution_count": 78,
      "outputs": [
        {
          "output_type": "stream",
          "name": "stdout",
          "text": [
            "(13992, 48)\n",
            "(3498, 48)\n",
            "(13992, 1)\n",
            "(3498, 1)\n"
          ]
        }
      ]
    },
    {
      "cell_type": "code",
      "source": [
        "X_train = np.reshape(X_train, (X_train.shape[0], X_train.shape[1], 1))\n",
        "print(X_train.shape)\n",
        "print('Shape of X-train',X_train[:2])"
      ],
      "metadata": {
        "colab": {
          "base_uri": "https://localhost:8080/"
        },
        "id": "7ITiWD5mQDjX",
        "outputId": "3847780e-e46f-40bf-dde4-b17b1db3ddc2"
      },
      "execution_count": 81,
      "outputs": [
        {
          "output_type": "stream",
          "name": "stdout",
          "text": [
            "(13992, 48, 1)\n",
            "Shape of X-train [[[0.25521351]\n",
            "  [0.25571003]\n",
            "  [0.25620655]\n",
            "  [0.2571996 ]\n",
            "  [0.25819265]\n",
            "  [0.25819265]\n",
            "  [0.2591857 ]\n",
            "  [0.26067527]\n",
            "  [0.2611718 ]\n",
            "  [0.26166832]\n",
            "  [0.26266137]\n",
            "  [0.26315789]\n",
            "  [0.26315789]\n",
            "  [0.26365442]\n",
            "  [0.26514399]\n",
            "  [0.26514399]\n",
            "  [0.26564052]\n",
            "  [0.26663357]\n",
            "  [0.26663357]\n",
            "  [0.26663357]\n",
            "  [0.26812314]\n",
            "  [0.26762661]\n",
            "  [0.26812314]\n",
            "  [0.26762661]\n",
            "  [0.26762661]\n",
            "  [0.26713009]\n",
            "  [0.26564052]\n",
            "  [0.26365442]\n",
            "  [0.26216485]\n",
            "  [0.26017875]\n",
            "  [0.25819265]\n",
            "  [0.25571003]\n",
            "  [0.25273088]\n",
            "  [0.25124131]\n",
            "  [0.24875869]\n",
            "  [0.24677259]\n",
            "  [0.24528302]\n",
            "  [0.24329692]\n",
            "  [0.24230387]\n",
            "  [0.24031778]\n",
            "  [0.23833168]\n",
            "  [0.23733863]\n",
            "  [0.23584906]\n",
            "  [0.23435948]\n",
            "  [0.23386296]\n",
            "  [0.23286991]\n",
            "  [0.23138034]\n",
            "  [0.23088381]]\n",
            "\n",
            " [[0.25571003]\n",
            "  [0.25620655]\n",
            "  [0.2571996 ]\n",
            "  [0.25819265]\n",
            "  [0.25819265]\n",
            "  [0.2591857 ]\n",
            "  [0.26067527]\n",
            "  [0.2611718 ]\n",
            "  [0.26166832]\n",
            "  [0.26266137]\n",
            "  [0.26315789]\n",
            "  [0.26315789]\n",
            "  [0.26365442]\n",
            "  [0.26514399]\n",
            "  [0.26514399]\n",
            "  [0.26564052]\n",
            "  [0.26663357]\n",
            "  [0.26663357]\n",
            "  [0.26663357]\n",
            "  [0.26812314]\n",
            "  [0.26762661]\n",
            "  [0.26812314]\n",
            "  [0.26762661]\n",
            "  [0.26762661]\n",
            "  [0.26713009]\n",
            "  [0.26564052]\n",
            "  [0.26365442]\n",
            "  [0.26216485]\n",
            "  [0.26017875]\n",
            "  [0.25819265]\n",
            "  [0.25571003]\n",
            "  [0.25273088]\n",
            "  [0.25124131]\n",
            "  [0.24875869]\n",
            "  [0.24677259]\n",
            "  [0.24528302]\n",
            "  [0.24329692]\n",
            "  [0.24230387]\n",
            "  [0.24031778]\n",
            "  [0.23833168]\n",
            "  [0.23733863]\n",
            "  [0.23584906]\n",
            "  [0.23435948]\n",
            "  [0.23386296]\n",
            "  [0.23286991]\n",
            "  [0.23138034]\n",
            "  [0.23088381]\n",
            "  [0.22989076]]]\n"
          ]
        }
      ]
    },
    {
      "cell_type": "code",
      "source": [
        "X_test = np.reshape(X_test, (X_test.shape[0], X_test.shape[1], 1))\n",
        "print(X_test.shape)"
      ],
      "metadata": {
        "colab": {
          "base_uri": "https://localhost:8080/"
        },
        "id": "UZlXSZkHQrOf",
        "outputId": "b89782cf-6467-43a9-f5bd-8ee9c33857eb"
      },
      "execution_count": 84,
      "outputs": [
        {
          "output_type": "stream",
          "name": "stdout",
          "text": [
            "(3498, 48, 1)\n"
          ]
        }
      ]
    },
    {
      "cell_type": "code",
      "source": [
        "from keras.models import Sequential\n",
        "from keras.layers import Dense, Activation, LSTM\n",
        "from keras import optimizers"
      ],
      "metadata": {
        "id": "DV_gn8abSM7p"
      },
      "execution_count": null,
      "outputs": []
    },
    {
      "cell_type": "code",
      "source": [
        "model = Sequential()\n",
        "model.add(LSTM(50, return_sequences=True, input_shape=(X_train.shape[1],1)))\n",
        "model.add(LSTM(50,return_sequences=False))\n",
        "model.add(Dense(50, activation='relu'))\n",
        "model.add(Dense(1))\n"
      ],
      "metadata": {
        "id": "TwuZ_5nISkjp"
      },
      "execution_count": null,
      "outputs": []
    },
    {
      "cell_type": "code",
      "source": [
        "optimizers.Adam(learning_rate=0.0001)"
      ],
      "metadata": {
        "id": "UVJBmyuLUaCn"
      },
      "execution_count": null,
      "outputs": []
    },
    {
      "cell_type": "code",
      "source": [
        "model.compile(optimizer='adam', loss='mean_squared_error')\n",
        "model.fit(X_train,y_train, validation_split=0.2, epochs=100, batch_size=8)"
      ],
      "metadata": {
        "colab": {
          "base_uri": "https://localhost:8080/"
        },
        "id": "9cXASrQOU_v6",
        "outputId": "27f7166d-d508-41e2-94d8-16e271cb2bdc"
      },
      "execution_count": null,
      "outputs": [
        {
          "output_type": "stream",
          "name": "stdout",
          "text": [
            "Epoch 1/100\n"
          ]
        }
      ]
    },
    {
      "cell_type": "code",
      "source": [],
      "metadata": {
        "id": "RtIBqO0xVcp0"
      },
      "execution_count": null,
      "outputs": []
    }
  ]
}